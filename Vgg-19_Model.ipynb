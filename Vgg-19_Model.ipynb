{
 "cells": [
  {
   "cell_type": "code",
   "execution_count": 2,
   "metadata": {},
   "outputs": [],
   "source": [
    "from sklearn.model_selection import train_test_split\n",
    "from keras.utils.np_utils import to_categorical\n",
    "from pylab import *\n",
    "from keras.callbacks import LearningRateScheduler\n",
    "from keras import models\n",
    "from keras import layers\n",
    "import numpy as np\n",
    "import matplotlib.pyplot as plt\n",
    "from keras.applications.vgg19 import VGG19\n",
    "import itertools\n",
    "from sklearn.metrics import confusion_matrix\n",
    "from keras import optimizers\n",
    "from PIL import Image\n",
    "import pandas as pd\n",
    "import os\n"
   ]
  },
  {
   "cell_type": "code",
   "execution_count": 3,
   "metadata": {},
   "outputs": [],
   "source": [
    "def step_decay_schedule(initial_lr=1e-3, decay_factor=0.75, step_size=10):\n",
    "        def schedule(epoch):\n",
    "            return initial_lr * (decay_factor ** np.floor(epoch / step_size))\n",
    "        return LearningRateScheduler(schedule)"
   ]
  },
  {
   "cell_type": "code",
   "execution_count": 4,
   "metadata": {},
   "outputs": [
    {
     "name": "stdout",
     "output_type": "stream",
     "text": [
      "Downloading data from https://storage.googleapis.com/tensorflow/keras-applications/vgg19/vgg19_weights_tf_dim_ordering_tf_kernels_notop.h5\n",
      "80142336/80134624 [==============================] - 212s 3us/step\n"
     ]
    }
   ],
   "source": [
    " vgg_conv = VGG19(weights='imagenet', include_top=False, input_shape=(100, 100, 3))"
   ]
  },
  {
   "cell_type": "code",
   "execution_count": 11,
   "metadata": {},
   "outputs": [
    {
     "name": "stdout",
     "output_type": "stream",
     "text": [
      "<tensorflow.python.keras.engine.input_layer.InputLayer object at 0x0000014DC2C5A688> False\n",
      "<tensorflow.python.keras.layers.convolutional.Conv2D object at 0x0000014DC2B118C8> False\n",
      "<tensorflow.python.keras.layers.convolutional.Conv2D object at 0x0000014DC305CE08> False\n",
      "<tensorflow.python.keras.layers.pooling.MaxPooling2D object at 0x0000014DC34CB648> False\n",
      "<tensorflow.python.keras.layers.convolutional.Conv2D object at 0x0000014DC34C5A48> False\n",
      "<tensorflow.python.keras.layers.convolutional.Conv2D object at 0x0000014DC34DB208> False\n",
      "<tensorflow.python.keras.layers.pooling.MaxPooling2D object at 0x0000014DC34D5B88> False\n",
      "<tensorflow.python.keras.layers.convolutional.Conv2D object at 0x0000014DC34DFBC8> False\n",
      "<tensorflow.python.keras.layers.convolutional.Conv2D object at 0x0000014DC34EB648> False\n",
      "<tensorflow.python.keras.layers.convolutional.Conv2D object at 0x0000014DC34F6DC8> False\n",
      "<tensorflow.python.keras.layers.convolutional.Conv2D object at 0x0000014DC34F2C48> False\n",
      "<tensorflow.python.keras.layers.pooling.MaxPooling2D object at 0x0000014DC34FDB48> False\n",
      "<tensorflow.python.keras.layers.convolutional.Conv2D object at 0x0000014DC44D0848> False\n",
      "<tensorflow.python.keras.layers.convolutional.Conv2D object at 0x0000014DC44D7C48> False\n",
      "<tensorflow.python.keras.layers.convolutional.Conv2D object at 0x0000014DC44DA108> False\n",
      "<tensorflow.python.keras.layers.convolutional.Conv2D object at 0x0000014DC44E4208> False\n",
      "<tensorflow.python.keras.layers.pooling.MaxPooling2D object at 0x0000014DC44E9E08> False\n",
      "<tensorflow.python.keras.layers.convolutional.Conv2D object at 0x0000014DC44EF7C8> True\n",
      "<tensorflow.python.keras.layers.convolutional.Conv2D object at 0x0000014DC44F80C8> True\n",
      "<tensorflow.python.keras.layers.convolutional.Conv2D object at 0x0000014DC4502208> True\n",
      "<tensorflow.python.keras.layers.convolutional.Conv2D object at 0x0000014DC4509148> True\n",
      "<tensorflow.python.keras.layers.pooling.MaxPooling2D object at 0x0000014DC4510088> True\n",
      "Model: \"sequential_3\"\n",
      "_________________________________________________________________\n",
      "Layer (type)                 Output Shape              Param #   \n",
      "=================================================================\n",
      "vgg19 (Model)                (None, 3, 3, 512)         20024384  \n",
      "=================================================================\n",
      "Total params: 20,024,384\n",
      "Trainable params: 9,439,232\n",
      "Non-trainable params: 10,585,152\n",
      "_________________________________________________________________\n"
     ]
    }
   ],
   "source": [
    "    model = models.Sequential()\n",
    "    \n",
    "    for layer in vgg_conv.layers[:-5]:\n",
    "        layer.trainable = False\n",
    "\n",
    "    # Check the trainabl status of the individual layers\n",
    "    for layer in vgg_conv.layers:\n",
    "        print(layer, layer.trainable)\n",
    "\n",
    "\n",
    "    model.add(vgg_conv)\n",
    "    model.summary()\n",
    "    model.add(layers.Flatten())\n",
    "    model.add(layers.Dense(1024, activation='relu'))\n",
    "    model.add(layers.Dropout(0.50))\n",
    "    model.add(layers.Dense(1024, activation='relu'))\n",
    "    model.add(layers.Dropout(0.50))\n",
    "    model.add(layers.Dense(2, activation='softmax'))\n",
    "\n",
    "    optimizer = optimizers.Adagrad(lr=0.001, epsilon=None, decay=0.0)\n",
    "    model.compile(optimizer=optimizer,\n",
    "                  loss=\"mean_squared_error\",\n",
    "                  metrics=[\"accuracy\"])"
   ]
  },
  {
   "cell_type": "code",
   "execution_count": 12,
   "metadata": {},
   "outputs": [],
   "source": [
    "lr_sched = step_decay_schedule(initial_lr=1e-4, decay_factor=0.75, step_size=2)"
   ]
  },
  {
   "cell_type": "code",
   "execution_count": 13,
   "metadata": {},
   "outputs": [
    {
     "name": "stdout",
     "output_type": "stream",
     "text": [
      "Found 1599 images belonging to 2 classes.\n",
      "Found 401 images belonging to 2 classes.\n"
     ]
    }
   ],
   "source": [
    "from tensorflow.keras.preprocessing.image import ImageDataGenerator\n",
    "TRAINING_DIR = 'Image_Dataset/Train'\n",
    "train_datagen = ImageDataGenerator(\n",
    "      rescale=1./255,\n",
    "      rotation_range=40,\n",
    "      width_shift_range=0.2,\n",
    "      height_shift_range=0.2,\n",
    "      shear_range=0.2,\n",
    "      zoom_range=0.2,\n",
    "      horizontal_flip=True,\n",
    "      fill_mode='nearest')\n",
    "test_datagen = ImageDataGenerator(rescale=1./255)\n",
    "train_generator = train_datagen.flow_from_directory(TRAINING_DIR,target_size=(100,100),batch_size=5,class_mode='categorical')\n",
    "VALIDATION_DIR = 'Image_Dataset/Test'\n",
    "validation_datagen = ImageDataGenerator(rescale=1.0/255.0);\n",
    "validation_generator = validation_datagen.flow_from_directory(VALIDATION_DIR,target_size=(100,100),batch_size=10,class_mode='categorical');"
   ]
  },
  {
   "cell_type": "code",
   "execution_count": 14,
   "metadata": {},
   "outputs": [
    {
     "name": "stdout",
     "output_type": "stream",
     "text": [
      "Epoch 1/10\n",
      "100/100 [==============================] - 161s 2s/step - loss: 0.2969 - accuracy: 0.6320 - val_loss: 0.2069 - val_accuracy: 0.7300 - lr: 1.0000e-04\n",
      "Epoch 2/10\n",
      "100/100 [==============================] - 159s 2s/step - loss: 0.2668 - accuracy: 0.6340 - val_loss: 0.2174 - val_accuracy: 0.6900 - lr: 1.0000e-04\n",
      "Epoch 3/10\n",
      "100/100 [==============================] - 156s 2s/step - loss: 0.2820 - accuracy: 0.6032 - val_loss: 0.2489 - val_accuracy: 0.6400 - lr: 7.5000e-05\n",
      "Epoch 4/10\n",
      "100/100 [==============================] - 157s 2s/step - loss: 0.2599 - accuracy: 0.6120 - val_loss: 0.2407 - val_accuracy: 0.6200 - lr: 7.5000e-05\n",
      "Epoch 5/10\n",
      "100/100 [==============================] - 155s 2s/step - loss: 0.2790 - accuracy: 0.6160 - val_loss: 0.2486 - val_accuracy: 0.6000 - lr: 5.6250e-05\n",
      "Epoch 6/10\n",
      "100/100 [==============================] - 156s 2s/step - loss: 0.2741 - accuracy: 0.5980 - val_loss: 0.2215 - val_accuracy: 0.7000 - lr: 5.6250e-05\n",
      "Epoch 7/10\n",
      "100/100 [==============================] - 60353s 604s/step - loss: 0.2748 - accuracy: 0.5912 - val_loss: 0.2281 - val_accuracy: 0.6600 - lr: 4.2188e-05\n",
      "Epoch 8/10\n",
      "100/100 [==============================] - 136s 1s/step - loss: 0.2475 - accuracy: 0.6500 - val_loss: 0.2498 - val_accuracy: 0.6100 - lr: 4.2188e-05\n",
      "Epoch 9/10\n",
      "100/100 [==============================] - 161s 2s/step - loss: 0.2575 - accuracy: 0.6260 - val_loss: 0.2524 - val_accuracy: 0.6600 - lr: 3.1641e-05\n",
      "Epoch 10/10\n",
      "100/100 [==============================] - 154s 2s/step - loss: 0.2726 - accuracy: 0.5912 - val_loss: 0.2379 - val_accuracy: 0.6300 - lr: 3.1641e-05\n"
     ]
    }
   ],
   "source": [
    "history = model.fit(\n",
    "      train_generator,\n",
    "      steps_per_epoch=100,  # 2000 images = batch_size * steps\n",
    "      epochs=10,\n",
    "      validation_data=validation_generator,\n",
    "      validation_steps=10,\n",
    "      callbacks=[lr_sched])"
   ]
  },
  {
   "cell_type": "code",
   "execution_count": null,
   "metadata": {},
   "outputs": [],
   "source": []
  }
 ],
 "metadata": {
  "kernelspec": {
   "display_name": "Python 3",
   "language": "python",
   "name": "python3"
  },
  "language_info": {
   "codemirror_mode": {
    "name": "ipython",
    "version": 3
   },
   "file_extension": ".py",
   "mimetype": "text/x-python",
   "name": "python",
   "nbconvert_exporter": "python",
   "pygments_lexer": "ipython3",
   "version": "3.7.6"
  }
 },
 "nbformat": 4,
 "nbformat_minor": 4
}
