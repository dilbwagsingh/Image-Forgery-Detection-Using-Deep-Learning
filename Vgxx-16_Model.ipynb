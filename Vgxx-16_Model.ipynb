{
 "cells": [
  {
   "cell_type": "code",
   "execution_count": 7,
   "metadata": {},
   "outputs": [],
   "source": [
    "from sklearn.model_selection import train_test_split\n",
    "from keras.utils.np_utils import to_categorical\n",
    "from pylab import *\n",
    "import numpy as np\n",
    "import matplotlib.pyplot as plt\n",
    "from keras import models\n",
    "from keras import layers\n",
    "import itertools\n",
    "from sklearn.metrics import confusion_matrix\n",
    "from keras import optimizers\n",
    "from tensorflow.keras.optimizers import RMSprop\n",
    "from PIL import Image\n",
    "import pandas as pd\n",
    "from keras.applications.vgg16 import VGG16\n",
    "import os\n",
    "import random"
   ]
  },
  {
   "cell_type": "code",
   "execution_count": 4,
   "metadata": {},
   "outputs": [
    {
     "name": "stdout",
     "output_type": "stream",
     "text": [
      "Downloading data from https://storage.googleapis.com/tensorflow/keras-applications/vgg16/vgg16_weights_tf_dim_ordering_tf_kernels_notop.h5\n",
      "58892288/58889256 [==============================] - 143s 2us/step\n"
     ]
    }
   ],
   "source": [
    "vgg_conv = VGG16(weights='imagenet', include_top=False, input_shape=(100, 100, 3))"
   ]
  },
  {
   "cell_type": "code",
   "execution_count": 9,
   "metadata": {},
   "outputs": [
    {
     "name": "stdout",
     "output_type": "stream",
     "text": [
      "<tensorflow.python.keras.engine.input_layer.InputLayer object at 0x0000020CA9D20B48> False\n",
      "<tensorflow.python.keras.layers.convolutional.Conv2D object at 0x0000020CA9EF8508> False\n",
      "<tensorflow.python.keras.layers.convolutional.Conv2D object at 0x0000020CA9EF8A88> False\n",
      "<tensorflow.python.keras.layers.pooling.MaxPooling2D object at 0x0000020CA9A0B148> False\n",
      "<tensorflow.python.keras.layers.convolutional.Conv2D object at 0x0000020CAA363B88> False\n",
      "<tensorflow.python.keras.layers.convolutional.Conv2D object at 0x0000020CAA36EF08> False\n",
      "<tensorflow.python.keras.layers.pooling.MaxPooling2D object at 0x0000020CAA371A08> False\n",
      "<tensorflow.python.keras.layers.convolutional.Conv2D object at 0x0000020CAA37C288> False\n",
      "<tensorflow.python.keras.layers.convolutional.Conv2D object at 0x0000020CAA389288> False\n",
      "<tensorflow.python.keras.layers.convolutional.Conv2D object at 0x0000020CAA382748> False\n",
      "<tensorflow.python.keras.layers.pooling.MaxPooling2D object at 0x0000020CAA374FC8> False\n",
      "<tensorflow.python.keras.layers.convolutional.Conv2D object at 0x0000020CAA396748> False\n",
      "<tensorflow.python.keras.layers.convolutional.Conv2D object at 0x0000020CAA39E488> False\n",
      "<tensorflow.python.keras.layers.convolutional.Conv2D object at 0x0000020CA981E948> False\n",
      "<tensorflow.python.keras.layers.pooling.MaxPooling2D object at 0x0000020CAA3A7D48> True\n",
      "<tensorflow.python.keras.layers.convolutional.Conv2D object at 0x0000020CAA3ABAC8> True\n",
      "<tensorflow.python.keras.layers.convolutional.Conv2D object at 0x0000020CAA3B5E48> True\n",
      "<tensorflow.python.keras.layers.convolutional.Conv2D object at 0x0000020CAA3BFCC8> True\n",
      "<tensorflow.python.keras.layers.pooling.MaxPooling2D object at 0x0000020CAA3C0408> True\n"
     ]
    }
   ],
   "source": [
    "\n",
    "    #Note\n",
    "    for layer in vgg_conv.layers[:-5]:\n",
    "        layer.trainable = False\n",
    "\n",
    "    for layer in vgg_conv.layers:\n",
    "        print(layer, layer.trainable)\n",
    "        \n",
    "    model = models.Sequential()    \n",
    "\n",
    "    model.add(vgg_conv)\n",
    "    model.add(layers.Flatten())\n",
    "    model.add(layers.Dense(1024, activation='relu'))\n",
    "    model.add(layers.Dropout(0.25))\n",
    "    model.add(layers.Dense(2, activation='softmax'))\n",
    "\n",
    "    model.compile(loss='binary_crossentropy',\n",
    "                  optimizer=optimizers.RMSprop(lr=0.01),\n",
    "                  metrics=['accuracy'])"
   ]
  },
  {
   "cell_type": "code",
   "execution_count": 10,
   "metadata": {},
   "outputs": [
    {
     "name": "stdout",
     "output_type": "stream",
     "text": [
      "Model: \"sequential_2\"\n",
      "_________________________________________________________________\n",
      "Layer (type)                 Output Shape              Param #   \n",
      "=================================================================\n",
      "vgg16 (Model)                (None, 3, 3, 512)         14714688  \n",
      "_________________________________________________________________\n",
      "flatten_2 (Flatten)          (None, 4608)              0         \n",
      "_________________________________________________________________\n",
      "dense_4 (Dense)              (None, 1024)              4719616   \n",
      "_________________________________________________________________\n",
      "dropout_2 (Dropout)          (None, 1024)              0         \n",
      "_________________________________________________________________\n",
      "dense_5 (Dense)              (None, 2)                 2050      \n",
      "=================================================================\n",
      "Total params: 19,436,354\n",
      "Trainable params: 11,801,090\n",
      "Non-trainable params: 7,635,264\n",
      "_________________________________________________________________\n"
     ]
    }
   ],
   "source": [
    "model.summary()"
   ]
  },
  {
   "cell_type": "code",
   "execution_count": 15,
   "metadata": {},
   "outputs": [
    {
     "name": "stdout",
     "output_type": "stream",
     "text": [
      "Found 1119 images belonging to 2 classes.\n",
      "Found 280 images belonging to 2 classes.\n"
     ]
    }
   ],
   "source": [
    "from tensorflow.keras.preprocessing.image import ImageDataGenerator\n",
    "TRAINING_DIR = 'Image_Dataset/Train'\n",
    "train_datagen = ImageDataGenerator(\n",
    "      rescale=1./255,\n",
    "      rotation_range=40,\n",
    "      width_shift_range=0.2,\n",
    "      height_shift_range=0.2,\n",
    "      shear_range=0.2,\n",
    "      zoom_range=0.2,\n",
    "      horizontal_flip=True,\n",
    "      fill_mode='nearest')\n",
    "test_datagen = ImageDataGenerator(rescale=1./255)\n",
    "train_generator = train_datagen.flow_from_directory(TRAINING_DIR,target_size=(100,100),batch_size=5,class_mode='categorical')\n",
    "VALIDATION_DIR = 'Image_Dataset/Test'\n",
    "validation_datagen = ImageDataGenerator(rescale=1.0/255.0);\n",
    "validation_generator = validation_datagen.flow_from_directory(VALIDATION_DIR,target_size=(100,100),batch_size=10,class_mode='categorical');"
   ]
  },
  {
   "cell_type": "code",
   "execution_count": 16,
   "metadata": {},
   "outputs": [
    {
     "name": "stdout",
     "output_type": "stream",
     "text": [
      "Epoch 1/10\n",
      "20/20 [==============================] - 54s 3s/step - loss: 7.6685 - accuracy: 0.5000 - val_loss: 7.9753 - val_accuracy: 0.4800\n",
      "Epoch 2/10\n",
      "20/20 [==============================] - 43s 2s/step - loss: 8.2820 - accuracy: 0.4600 - val_loss: 7.3618 - val_accuracy: 0.5200\n",
      "Epoch 3/10\n",
      "20/20 [==============================] - 46s 2s/step - loss: 7.3618 - accuracy: 0.5200 - val_loss: 7.5152 - val_accuracy: 0.5100\n",
      "Epoch 4/10\n",
      "20/20 [==============================] - 42s 2s/step - loss: 7.7460 - accuracy: 0.4949 - val_loss: 6.9017 - val_accuracy: 0.5500\n",
      "Epoch 5/10\n",
      "20/20 [==============================] - 42s 2s/step - loss: 7.3618 - accuracy: 0.5200 - val_loss: 6.5950 - val_accuracy: 0.5700\n",
      "Epoch 6/10\n",
      "20/20 [==============================] - 42s 2s/step - loss: 7.9753 - accuracy: 0.4800 - val_loss: 7.9753 - val_accuracy: 0.4800\n",
      "Epoch 7/10\n",
      "20/20 [==============================] - 43s 2s/step - loss: 7.8219 - accuracy: 0.4900 - val_loss: 7.9753 - val_accuracy: 0.4800\n",
      "Epoch 8/10\n",
      "20/20 [==============================] - 48s 2s/step - loss: 7.8219 - accuracy: 0.4900 - val_loss: 7.2084 - val_accuracy: 0.5300\n",
      "Epoch 9/10\n",
      "20/20 [==============================] - 52s 3s/step - loss: 6.7483 - accuracy: 0.5600 - val_loss: 7.5152 - val_accuracy: 0.5100\n",
      "Epoch 10/10\n",
      "20/20 [==============================] - 61s 3s/step - loss: 7.3618 - accuracy: 0.5200 - val_loss: 7.2084 - val_accuracy: 0.5300\n"
     ]
    }
   ],
   "source": [
    "history = model.fit(\n",
    "      train_generator,\n",
    "      steps_per_epoch=20,  # 2000 images = batch_size * steps\n",
    "      epochs=10,\n",
    "      validation_data=validation_generator,\n",
    "      validation_steps=10)"
   ]
  },
  {
   "cell_type": "code",
   "execution_count": null,
   "metadata": {},
   "outputs": [],
   "source": []
  }
 ],
 "metadata": {
  "kernelspec": {
   "display_name": "Python 3",
   "language": "python",
   "name": "python3"
  },
  "language_info": {
   "codemirror_mode": {
    "name": "ipython",
    "version": 3
   },
   "file_extension": ".py",
   "mimetype": "text/x-python",
   "name": "python",
   "nbconvert_exporter": "python",
   "pygments_lexer": "ipython3",
   "version": "3.7.6"
  }
 },
 "nbformat": 4,
 "nbformat_minor": 4
}
